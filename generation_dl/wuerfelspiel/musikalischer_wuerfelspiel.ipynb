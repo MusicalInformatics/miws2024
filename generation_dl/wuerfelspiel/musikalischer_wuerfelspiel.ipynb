{
 "cells": [
  {
   "cell_type": "markdown",
   "metadata": {},
   "source": [
    "# Mozart's Musikalisches Würfelspiel, K.516f\n",
    "\n",
    "<img src=\"figs/wuerfelspiel_anleitung.png\" alt=\"Würfelspiel Instructions\" width=400> <img src=\"figs/mozart_wuerfelspiel.webp\" alt=\"Würfelspiel Instructions\" width=300>\n",
    "\n",
    "\n",
    "> \"To compose without the least knowledge of Music so much German Walzer or Schleifer as one pleases, by throwing a certain number with two dice.\"\n",
    "\n",
    "In this notebook we will explore one of the early classics of algorithmic composition, Mozart's musical dice game.\n",
    "\n",
    "\n"
   ]
  },
  {
   "cell_type": "code",
   "execution_count": null,
   "metadata": {},
   "outputs": [],
   "source": [
    "import numpy as np\n",
    "from typing import List, Union, Dict, Tuple\n",
    "import partitura as pt\n",
    "import os\n",
    "from partitura.utils.fluidsynth import HAS_FLUIDSYNTH\n",
    "import pandas as pd\n",
    "\n",
    "if HAS_FLUIDSYNTH:\n",
    "    from partitura.utils.fluidsynth import (\n",
    "        synthesize_fluidsynth as synthesize,\n",
    "        SAMPLE_RATE,\n",
    "    )\n",
    "else:\n",
    "    from partitura.utils.synth import synthesize, SAMPLE_RATE\n",
    "import IPython.display as ipd\n",
    "\n",
    "from wuerfelspiel_helper import DICE_THROWING_TABLE, pretty_print_dice_throwing_table\n",
    "\n",
    "RNG = np.random.RandomState(1984)"
   ]
  },
  {
   "cell_type": "markdown",
   "metadata": {},
   "source": [
    "<!-- ![wuerfelspiel_table](figs/wuefelspiel_table_p1.png) -->\n",
    "<img src=\"figs/wuefelspiel_table_p1.png\" alt=\"Description\" width=\"400\"> <img src=\"figs/wuefelspiel_table_p2.png\" alt=\"Description\" width=\"400\">\n",
    "\n",
    "<img src=\"figs/wuefelspiel_score_snippet.png\" alt=\"Description\" width=\"800\">\n"
   ]
  },
  {
   "cell_type": "markdown",
   "metadata": {},
   "source": [
    "## Basic Instructions\n",
    "\n",
    "1. The letters A-H on each column specify each measure in the piece (the first table is for the first part and the second table for the second part of the piece).\n",
    "2. For each measure, we roll 2 6-sided dice, we will get a result between 2 and 12.\n",
    "3. We look up at the corresponding row on the table, which will tell us the number of the measure to use.\n",
    "\n",
    "Here is a more readable version of the table:"
   ]
  },
  {
   "cell_type": "code",
   "execution_count": null,
   "metadata": {},
   "outputs": [],
   "source": [
    "pretty_print_dice_throwing_table()"
   ]
  },
  {
   "cell_type": "markdown",
   "metadata": {},
   "source": [
    "## Implmenenting the game!\n",
    "\n",
    "What we need to implement:\n",
    "\n",
    "1. A function that simulates rolling the dice\n",
    "2. A way of generating a trajectory of dice roll for each measure\n",
    "3. Load the score and split it into measures\n",
    "4. Put the piece together using the generated trajectory."
   ]
  },
  {
   "cell_type": "code",
   "execution_count": null,
   "metadata": {},
   "outputs": [],
   "source": [
    "def roll_dice(rng: Union[np.random.RandomState, int] = RNG) -> int:\n",
    "    \"\"\"\n",
    "    Simulates the roll of two 6-sided dice and returns their sum.\n",
    "\n",
    "    Returns\n",
    "    -------\n",
    "    int\n",
    "        The sum of two 6-sided dice rolls.\n",
    "    \"\"\"\n",
    "    if isinstance(rng, int):\n",
    "        rng = np.random.RandomState(rng)\n",
    "\n",
    "    return int(rng.randint(1, 6) + rng.randint(1, 6))\n",
    "\n"
   ]
  },
  {
   "cell_type": "code",
   "execution_count": null,
   "metadata": {},
   "outputs": [],
   "source": [
    "\n",
    "def generate_trajectory(rng: Union[np.random.RandomState, int] = RNG) -> np.ndarray:\n",
    "    \"\"\"\n",
    "    Simulates rolling two dice 16 times and retrieves values from the table using\n",
    "    the dice sum as the row index for each column.\n",
    "\n",
    "    Returns\n",
    "    -------\n",
    "    np.ndarray\n",
    "        A 1D numpy array representing the trajectory of values based on the dice rolls.\n",
    "    \"\"\"\n",
    "    trajectory = []\n",
    "    for col in range(16):\n",
    "        dice_sum = roll_dice(rng)\n",
    "        # Ensure the dice sum is between 2 and 12 (valid row indices)\n",
    "        row_index = dice_sum - 2\n",
    "        value = DICE_THROWING_TABLE[row_index, col]\n",
    "        trajectory.append(value)\n",
    "\n",
    "    return np.array(trajectory, dtype=int)"
   ]
  },
  {
   "cell_type": "markdown",
   "metadata": {},
   "source": [
    "Now that we have a way to generate samples, we load the score and extract the notes for each measure pattern."
   ]
  },
  {
   "cell_type": "code",
   "execution_count": null,
   "metadata": {},
   "outputs": [],
   "source": [
    "# We load the score\n",
    "score = pt.load_musicxml(\n",
    "    os.path.join(\n",
    "        \"example_data\",\n",
    "        \"Musikalisches_Wuerfelspiel_K.516f.musicxml\",\n",
    "    ),\n",
    "    force_note_ids=True,\n",
    ")\n",
    "part = score[0]\n",
    "\n",
    "bm = part.beat_map\n",
    "note_array = part.note_array()\n",
    "onsets = note_array[\"onset_beat\"]\n",
    "measures = dict()\n",
    "\n",
    "# Get the notes for each measure in the score\n",
    "for i, measure in enumerate(part.iter_all(pt.score.Measure)):\n",
    "    # start and end time of the measure in divs\n",
    "    measure_start_div = measure.start.t\n",
    "    measure_end_div = measure.end.t\n",
    "\n",
    "    # start and end time of the measure in beats\n",
    "    measure_start_beat = bm(measure_start_div)\n",
    "    measure_end_beat = bm(measure_end_div)\n",
    "\n",
    "    # duration of the measure\n",
    "    measure_duration = measure_end_beat - measure_start_beat\n",
    "\n",
    "    # Get the the notes in the measure\n",
    "    note_indices = np.where(\n",
    "        np.logical_and(onsets >= measure_start_beat, onsets < measure_end_beat)\n",
    "    )[0]\n",
    "\n",
    "    measure_notes = note_array[note_indices]\n",
    "\n",
    "    # Adjust the onset of the notes to start at the beginning of the measure\n",
    "    measure_notes[\"onset_beat\"] -= measure_start_beat\n",
    "    measure_notes[\"onset_div\"] -= measure_start_div\n",
    "\n",
    "    # add the measures to the dictionary\n",
    "    measures[i + 1] = (measure_notes, measure_duration)"
   ]
  },
  {
   "cell_type": "markdown",
   "metadata": {},
   "source": [
    "Now we can put everything together into a function to generate a new Walzer!"
   ]
  },
  {
   "cell_type": "code",
   "execution_count": null,
   "metadata": {},
   "outputs": [],
   "source": [
    "def compose_piece(\n",
    "    measures: Dict[int, Tuple[np.ndarray, float]] = measures,\n",
    "    rng: Union[np.random.RandomState, int] = RNG,\n",
    ") -> np.ndarray:\n",
    "    \"\"\"Compose a piece!\n",
    "\n",
    "    Parameters\n",
    "    ----------\n",
    "    measures : Dict[int, Tuple[np.ndarray, float]], optional\n",
    "        Dictionary of measures from the piece\n",
    "    rng : Union[np.random.RandomState, int], optional\n",
    "        random number generator\n",
    "\n",
    "    Returns\n",
    "    -------\n",
    "    generated_piece: np.ndarray\n",
    "        The note array of the generated piece\n",
    "    \"\"\"\n",
    "\n",
    "    # Generate a trajectory\n",
    "    trajectory = generate_trajectory(rng)\n",
    "\n",
    "    generated_piece = []\n",
    "    starting_onset = 0\n",
    "    # for each dice throw in the trajectory\n",
    "    # get the notes and adjust their initial onset time\n",
    "    for i, t in enumerate(trajectory):\n",
    "        measure, measure_duration = measures[t]\n",
    "        out_measure = measure.copy()\n",
    "        out_measure[\"onset_beat\"] += starting_onset\n",
    "        starting_onset += measure_duration\n",
    "        generated_piece.append(out_measure)\n",
    "\n",
    "    generated_piece = np.concatenate(generated_piece)\n",
    "\n",
    "    return generated_piece"
   ]
  },
  {
   "cell_type": "markdown",
   "metadata": {},
   "source": [
    "Finally, let's hear the output!"
   ]
  },
  {
   "cell_type": "code",
   "execution_count": null,
   "metadata": {},
   "outputs": [],
   "source": [
    "# Generate the piece\n",
    "generated_piece = compose_piece(rng=2024)\n",
    "\n",
    "# Synthesize audio\n",
    "output = synthesize(note_info=generated_piece, bpm=100)\n",
    "\n",
    "ipd.display(ipd.Audio(data=output, rate=SAMPLE_RATE, normalize=True))"
   ]
  }
 ],
 "metadata": {
  "kernelspec": {
   "display_name": "miws24",
   "language": "python",
   "name": "python3"
  },
  "language_info": {
   "codemirror_mode": {
    "name": "ipython",
    "version": 3
   },
   "file_extension": ".py",
   "mimetype": "text/x-python",
   "name": "python",
   "nbconvert_exporter": "python",
   "pygments_lexer": "ipython3",
   "version": "3.10.14"
  }
 },
 "nbformat": 4,
 "nbformat_minor": 2
}
