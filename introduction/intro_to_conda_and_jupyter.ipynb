{
 "cells": [
  {
   "cell_type": "markdown",
   "id": "358ba6c3",
   "metadata": {},
   "source": [
    "# Welcome to the first Music Informatics code-along notebook!\n",
    "\n",
    "In this Jupyter notebook we take a look at:\n",
    "- setting up a conda environment with jupyter and partitura\n",
    "- finding your way around jupyter notebooks\n",
    "\n",
    "state October 2024"
   ]
  },
  {
   "cell_type": "markdown",
   "id": "f2fe4b28",
   "metadata": {},
   "source": [
    "## Setting up a Conda environment \n",
    "\n",
    "1. Download the [miniconda](https://docs.anaconda.com/miniconda/miniconda-install/) in a version compatible with your operating system. You can choose any python version you like, but for this course we use will 3.10. \n",
    "\n",
    "2. Install this software which gives you at least two things: the command-line python package manager ```conda``` (similar to the python package manager ```pip```) and the conda environment management system. Conda environments allow you to create virtual python environments with their own python interpreter and installed packages.\n",
    "\n",
    "3. In this repository you find a file called ```environment.yml``` which contains a list of dependencies that we use regularly.\n",
    "\n",
    "4. Create a conda environment from this file by executing\n",
    "\n",
    "```bash\n",
    "conda env create -f path/to/environment.yml\n",
    "```\n",
    "\n",
    "in the terminal of your choice. Conda supports many shells, though some (PowerShell, ...) might require extra steps after installation. This command will create an environment called `miws24`.\n",
    "\n",
    "5. You can activate your environment by executing\n",
    "\n",
    "``` bash\n",
    "conda activate miws24\n",
    "```\n",
    "\n",
    "6. In many terminals you see the name of the currently active environment in parentheses in the beginning of the line. Removing or installing anything via pip or conda will only affect this environment while it is activated. Check your currently installed packages via ```pip freeze``` or ```conda list```. Check the python version using ```python -V``` and the list of environments using ```conda env list```"
   ]
  },
  {
   "cell_type": "markdown",
   "id": "9c9afea9",
   "metadata": {},
   "source": [
    "## So how do Jupyter notebooks work?\n",
    "\n",
    "Jupyter notebooks are a handy way to mix code with visualizations and explanations. Unfortunately, they can have the side effect of creating bad coding habits. Let's have a look athow they work and what we need to keep in mind while using them. This is a rough overview and only looks at the functionality we will definitely need\n",
    "\n",
    "1. Jupyter notebooks consist of multiple cells which contain markdown/latex text or python code\n",
    "\n",
    "2. Whether a cell is evaluated as text or code depends on its type: change the type by clicking on \"Cell\" in the menu bar and then \"Cell Type\"\n",
    "\n",
    "3. All cells up until now have been markdown text cells. Double click somewhere to see the \"source text\"\n",
    "\n",
    "4. A cell is evaluated by clicking \"Run\" in the navigation bar of by typing ```Shift + Enter```\n",
    "\n",
    "5. A text cell is evaluated to rendered text, a python code cell is interpreted, all text based or graphic feedback will be displayed just below the cell\n",
    "\n",
    "6. Jupyter Notebooks are *not* run top to bottom by default, but in the order in which you evaluate the cells. It is best practice to force yourself to work top to bottom however and make sure you don't overwrite your variables by jumping back and forth.\n",
    "\n",
    "7. Python cells work very similar to python scripts. You can import packages and files, you can use previously computed variables or previously defined functions. You can plot using matplotlib by typing ```%matplotlib inline``` in the first line of a cell.\n"
   ]
  },
  {
   "cell_type": "code",
   "execution_count": null,
   "id": "9675fbf5",
   "metadata": {},
   "outputs": [],
   "source": [
    "# Example:\n",
    "print(\"Hello world!\")"
   ]
  },
  {
   "cell_type": "code",
   "execution_count": null,
   "id": "72c77061",
   "metadata": {},
   "outputs": [],
   "source": [
    "# Importing libraries\n",
    "import numpy as np\n",
    "import matplotlib.pyplot as plt\n",
    "\n",
    "# Example plot a sine wave\n",
    "t = np.linspace(0, 2 * np.pi, 200)\n",
    "\n",
    "y = np.sin(2 * np.pi * t)\n",
    "\n",
    "plt.plot(t, y)\n",
    "\n",
    "plt.xlabel(\"t\")\n",
    "plt.ylabel(\"y(t)\")\n",
    "\n"
   ]
  },
  {
   "cell_type": "markdown",
   "id": "f01039ef",
   "metadata": {},
   "source": [
    "\n",
    "\n",
    "### Notebook Tips and Recommendations\n",
    "\n",
    "Generally:\n",
    "- Notebooks are great for: exploratory data analysis (visualize your data in many ways, compute some statistics)), technical blog posts, tutorials, Technical Presentations, Quick and simple experimentation\n",
    "- Notebooks are not so great for complex models, in depth experimentation, compact code sharing for challenge submissions\n",
    "- For these consider using standard python scripts, modularized and reused in suitable way, with a main function callable from a terminal\n",
    "\n",
    "Specifically:\n",
    "- Always execute notebooks top to bottom\n",
    "- Write long functions and classes (20+ lines) in external files and import them\n",
    "- Use python scripts instead of notebooks for extended experiments\n",
    "- Set and use global parameters at the top of the notebook (if it runs parametrized experiments)\n",
    "- Pay close attention not to overwrite variables/function (for instance if experimenting with a couple alternatives in an experiment)\n",
    "\n",
    "\n"
   ]
  },
  {
   "cell_type": "markdown",
   "id": "f7d9a973",
   "metadata": {},
   "source": [
    "if you experience problems with the environment, we know the following fixes:\n",
    "\n",
    "- partitura can be installed via pip install git+https://github.com/CPJKU/partitura.git\n"
   ]
  }
 ],
 "metadata": {
  "kernelspec": {
   "display_name": "miws24",
   "language": "python",
   "name": "python3"
  },
  "language_info": {
   "codemirror_mode": {
    "name": "ipython",
    "version": 3
   },
   "file_extension": ".py",
   "mimetype": "text/x-python",
   "name": "python",
   "nbconvert_exporter": "python",
   "pygments_lexer": "ipython3",
   "version": "3.10.14"
  }
 },
 "nbformat": 4,
 "nbformat_minor": 5
}
