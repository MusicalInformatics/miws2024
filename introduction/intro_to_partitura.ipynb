{
 "cells": [
  {
   "cell_type": "markdown",
   "metadata": {},
   "source": [
    "# The Partitura Package\n",
    "\n",
    "partitura is python 3 package for symbolic music processing developed and maintained at CP/JKU (and otther contributors). It's intended to give a lightweight music representations that makes many score properties easily accessible for specific tasks. Furthermore it's a very useful I/O utility to parse computer formats of symbolic music such as MusicXML / MIDI. \n",
    "\n",
    "The repo can be found here (stable = main branch, bleeding edge = develop): https://github.com/CPJKU/partitura\n",
    "\n",
    "Documentation can be found here: https://partitura.readthedocs.io/en/latest/\n",
    "\n",
    "Extended tutorial notebooks are here: https://cpjku.github.io/partitura_tutorial/"
   ]
  },
  {
   "cell_type": "markdown",
   "metadata": {},
   "source": [
    "# The part object\n",
    "\n",
    "The ```part``` object is the central object of partitura. It contains a score.\n",
    "- it is a timeline object\n",
    "- time is measured in divs\n",
    "- its elements are timed objects, i.e. they have a starting time and an ending time\n",
    "- external score files are loaded into a part\n",
    "- parts can be exported into score files\n",
    "- it contains many useful methods related to its properties\n"
   ]
  },
  {
   "cell_type": "code",
   "execution_count": null,
   "metadata": {},
   "outputs": [],
   "source": [
    "# Uncomment these lines if the kernel keeps crashing\n",
    "# See https://stackoverflow.com/a/53014308\n",
    "# import os\n",
    "# os.environ['KMP_DUPLICATE_LIB_OK']='True'\n",
    "\n",
    "import partitura as pt\n",
    "path_to_musicxml = pt.EXAMPLE_MUSICXML\n",
    "score = pt.load_musicxml(path_to_musicxml)\n",
    "part = score[0]\n",
    "print(part.pretty())\n",
    "# what do we need to modify to see a somewhat pretty part?\n",
    "# what do we see here?"
   ]
  },
  {
   "cell_type": "markdown",
   "metadata": {},
   "source": [
    "![Timeline_chopin2.png](https://github.com/CPJKU/partitura_tutorial/raw/main/static/Timeline_chopin2.png)"
   ]
  },
  {
   "cell_type": "markdown",
   "metadata": {},
   "source": [
    "## Notes"
   ]
  },
  {
   "cell_type": "code",
   "execution_count": null,
   "metadata": {},
   "outputs": [],
   "source": [
    "part.notes"
   ]
  },
  {
   "cell_type": "code",
   "execution_count": null,
   "metadata": {},
   "outputs": [],
   "source": [
    "# notes are timed objects\n",
    "part.notes[0].start\n",
    "# dir(part.notes[0])"
   ]
  },
  {
   "cell_type": "code",
   "execution_count": 4,
   "metadata": {},
   "outputs": [],
   "source": [
    "# adding notes (times in divs!)\n",
    "a_new_note = pt.score.Note(id='n04', step='A', octave=4, voice=1)\n",
    "part.add(a_new_note, start=0, end=12)\n",
    "# print(part.pretty())"
   ]
  },
  {
   "cell_type": "code",
   "execution_count": 5,
   "metadata": {},
   "outputs": [],
   "source": [
    "# deleting notes\n",
    "part.remove(a_new_note)\n",
    "# print(part.pretty())\n",
    "\n",
    "# how do you go about notes for which you don't have the corresponding object variable?"
   ]
  },
  {
   "cell_type": "markdown",
   "metadata": {},
   "source": [
    "## Iterating over arbitrary musical objects"
   ]
  },
  {
   "cell_type": "code",
   "execution_count": null,
   "metadata": {},
   "outputs": [],
   "source": [
    "for measure in part.iter_all(pt.score.Measure):\n",
    "    print(measure)"
   ]
  },
  {
   "cell_type": "code",
   "execution_count": null,
   "metadata": {},
   "outputs": [],
   "source": [
    "for note in part.iter_all(pt.score.Note, include_subclasses=True, start=0, end=24):\n",
    "    print(note)"
   ]
  },
  {
   "cell_type": "markdown",
   "metadata": {},
   "source": [
    "## The note_array"
   ]
  },
  {
   "cell_type": "code",
   "execution_count": null,
   "metadata": {},
   "outputs": [],
   "source": [
    "# getting structured numpy array of notes from a part \n",
    "part.note_array()"
   ]
  },
  {
   "cell_type": "code",
   "execution_count": null,
   "metadata": {},
   "outputs": [],
   "source": [
    "part.note_array()[[\"onset_beat\", \"pitch\"]]"
   ]
  },
  {
   "cell_type": "markdown",
   "metadata": {},
   "source": [
    "## File Import"
   ]
  },
  {
   "cell_type": "code",
   "execution_count": 10,
   "metadata": {},
   "outputs": [],
   "source": [
    "# score representation format musicXML -> lets look at a file\n",
    "score = pt.load_musicxml(path_to_musicxml)"
   ]
  },
  {
   "cell_type": "code",
   "execution_count": 11,
   "metadata": {},
   "outputs": [],
   "source": [
    "path_to_midifile = pt.EXAMPLE_MIDI\n",
    "performance = pt.load_performance_midi(path_to_midifile)"
   ]
  },
  {
   "cell_type": "markdown",
   "metadata": {},
   "source": [
    "### excursion: what's a performed part?"
   ]
  },
  {
   "cell_type": "code",
   "execution_count": null,
   "metadata": {},
   "outputs": [],
   "source": [
    "performance[0].notes"
   ]
  },
  {
   "cell_type": "markdown",
   "metadata": {},
   "source": [
    "### excursion of the excursion: why isn't this a score representation?\n",
    "musical notes representation format MIDI -> lets look at a file"
   ]
  },
  {
   "cell_type": "code",
   "execution_count": null,
   "metadata": {},
   "outputs": [],
   "source": [
    "with open(\"example_data\\\\Chopin_op10_no3_p01.mid\", 'rb') as f:\n",
    "    # print(dir(f))\n",
    "    for line in f:        \n",
    "        print((line.hex()))\n",
    "        print(\"---\")"
   ]
  },
  {
   "cell_type": "markdown",
   "metadata": {},
   "source": [
    "### part + performedpart + note alignment = match file"
   ]
  },
  {
   "cell_type": "code",
   "execution_count": 14,
   "metadata": {},
   "outputs": [],
   "source": [
    "performance_m, alignment, score_m = pt.load_match(\"example_data\\\\Chopin_op10_no3_p01.match\", create_score=True)"
   ]
  },
  {
   "cell_type": "code",
   "execution_count": null,
   "metadata": {},
   "outputs": [],
   "source": [
    "alignment"
   ]
  },
  {
   "cell_type": "code",
   "execution_count": null,
   "metadata": {},
   "outputs": [],
   "source": []
  },
  {
   "cell_type": "markdown",
   "metadata": {},
   "source": [
    "## File export"
   ]
  },
  {
   "cell_type": "code",
   "execution_count": 16,
   "metadata": {},
   "outputs": [],
   "source": [
    "pt.save_musicxml(part, \"musicxml_out.xml\")"
   ]
  },
  {
   "cell_type": "code",
   "execution_count": 17,
   "metadata": {},
   "outputs": [],
   "source": [
    "pt.save_performance_midi(performance[0], \"midi_out.mid\")"
   ]
  },
  {
   "cell_type": "markdown",
   "metadata": {},
   "source": [
    "### Some more imports for further processing"
   ]
  },
  {
   "cell_type": "code",
   "execution_count": 23,
   "metadata": {},
   "outputs": [],
   "source": [
    "from partitura.musicanalysis.performance_codec import (encode_performance,\n",
    "                                                        get_unique_onset_idxs,\n",
    "                                                        notewise_to_onsetwise)\n",
    "import numpy as np\n",
    "import matplotlib.pyplot as plt\n",
    "%matplotlib inline"
   ]
  },
  {
   "cell_type": "markdown",
   "metadata": {},
   "source": [
    "## A slightly more involved usage example"
   ]
  },
  {
   "cell_type": "code",
   "execution_count": 24,
   "metadata": {},
   "outputs": [],
   "source": [
    "def match2tempo(match_path):\n",
    "    \"\"\"\n",
    "    computes tempo curve from a match file.\n",
    "\n",
    "    Parameters\n",
    "    ----------\n",
    "    match_path : string\n",
    "        a path of a match file\n",
    "    \n",
    "    Returns\n",
    "    -------\n",
    "    tempo_curve_and_onsets : numpy array\n",
    "        score onsets and corresponding tempo curve stacked as columns\n",
    "    \"\"\"\n",
    "\n",
    "    perf, alignment, scor = pt.load_match(match_path, create_score=True)\n",
    "    ppart, part = perf[0], scor[0]\n",
    "    ppart.sustain_pedal_threshold = 128\n",
    "    \n",
    "    targets, snote_ids, ux = encode_performance(part, ppart, alignment, return_u_onset_idx=True)  \n",
    "  \n",
    "    nid_dict = dict((n.id, i) for i, n in enumerate(part.notes_tied))\n",
    "    matched_subset_idxs = np.array([nid_dict[nid] for nid in snote_ids])       \n",
    "\n",
    "    score_onsets = part.note_array()[matched_subset_idxs]['onset_beat'] # changed from onset_beat\n",
    "    unique_onset_idxs, uni = get_unique_onset_idxs(score_onsets, return_unique_onsets=True)\n",
    "\n",
    "    tmp_crv = notewise_to_onsetwise(np.array([targets[\"beat_period\"]]).T, unique_onset_idxs)  \n",
    "    tempo_curve_and_onsets = np.column_stack((uni, tmp_crv))\n",
    "\n",
    "    return tempo_curve_and_onsets"
   ]
  },
  {
   "cell_type": "code",
   "execution_count": 25,
   "metadata": {},
   "outputs": [],
   "source": [
    "te = match2tempo(\"example_data\\\\Chopin_op10_no3_p01.match\")"
   ]
  },
  {
   "cell_type": "code",
   "execution_count": null,
   "metadata": {},
   "outputs": [],
   "source": [
    "plt.plot(te[:,0], 60/te[:,1])"
   ]
  }
 ],
 "metadata": {
  "kernelspec": {
   "display_name": "Python 3 (ipykernel)",
   "language": "python",
   "name": "python3"
  },
  "language_info": {
   "codemirror_mode": {
    "name": "ipython",
    "version": 3
   },
   "file_extension": ".py",
   "mimetype": "text/x-python",
   "name": "python",
   "nbconvert_exporter": "python",
   "pygments_lexer": "ipython3",
   "version": "3.10.14"
  },
  "vscode": {
   "interpreter": {
    "hash": "172a5ce276eb1d0d801a9beadd7c9d3aac7210a29cee87eb8cc563f5ca08be0c"
   }
  }
 },
 "nbformat": 4,
 "nbformat_minor": 4
}
