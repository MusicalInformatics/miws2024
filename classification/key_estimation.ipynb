{
 "cells": [
  {
   "cell_type": "markdown",
   "metadata": {},
   "source": [
    "# Key Estimation\n",
    "\n",
    "In tonal music, the task of key estimation refers to identifying the main tonality of a musical piece. This is a useful first step for automatic harmonic analysis, automatic pitch spelling, etc.\n",
    "\n",
    "In symbolic music, we usually need to identify the key of a piece from MIDI-like note information (MIDI pitch, onset, duration)."
   ]
  },
  {
   "cell_type": "code",
   "execution_count": null,
   "metadata": {},
   "outputs": [],
   "source": [
    "%matplotlib widget\n",
    "# Let's import some stuff\n",
    "import os\n",
    "\n",
    "import numpy as np\n",
    "import partitura as pt\n",
    "import warnings\n",
    "warnings.filterwarnings(\"ignore\")\n",
    "\n",
    "import matplotlib.pyplot as plt\n",
    "from scipy.stats import mode\n",
    "\n",
    "from typing import Tuple, Union\n",
    "\n",
    "from key_profiles import (\n",
    "    build_key_profile_matrix, \n",
    "    key_prof_maj_kk,\n",
    "    key_prof_min_kk,\n",
    "    key_prof_maj_cbms,\n",
    "    key_prof_min_cbms,\n",
    "    key_prof_maj_kp,\n",
    "    key_prof_min_kp,\n",
    "    MAJOR_KEYS,\n",
    "    MINOR_KEYS,\n",
    "    KEYS,\n",
    "    PITCH_CLASSES,\n",
    ")\n",
    "\n",
    "from partitura.utils.misc import PathLike\n",
    "\n",
    "from key_estimation_utils import NOTEBOOK_DIR\n",
    "\n",
    "%config InlineBackend.figure_format ='retina'"
   ]
  },
  {
   "cell_type": "markdown",
   "metadata": {},
   "source": [
    "Here are different pitch distributions for major and minor keys. \n",
    "\n",
    "* **Krumhansl**: Krumhansl-Kessler Key Profiles, which were compiled empirically from human ratings of tonal hierarchy\n",
    "* **CMBS**: A statistical profile compiled by David Temperley using the pitch class distributions of popular music.\n",
    "* **Kostka-Payne**: Another statistical profile by Temperley, this time using the examples in Kostka and Payne's textbook of tonal harmony."
   ]
  },
  {
   "cell_type": "code",
   "execution_count": null,
   "metadata": {},
   "outputs": [],
   "source": [
    "pitch_profiles = [\n",
    "    (key_prof_maj_kk, key_prof_min_kk, \"Krumhansl\"),\n",
    "    (key_prof_maj_cbms, key_prof_min_cbms, \"CBMS\"),\n",
    "    (key_prof_maj_kp, key_prof_min_kp, \"Kostka-Payne\"),\n",
    "]\n",
    "fig, (ax1, ax2) = plt.subplots(1, 2, sharey=True, figsize=(10, 5))\n",
    "\n",
    "for pmaj, pmin, profile in pitch_profiles:\n",
    "    ax1.plot(pmaj / pmaj.sum(), label=profile)\n",
    "    ax2.plot(pmin / pmaj.sum(), label=profile)\n",
    "ax1.set_title(\"Major\")\n",
    "ax2.set_title(\"Minor\")\n",
    "ax1.set_xticks(ticks=np.arange(12))\n",
    "ax1.set_xticklabels(MAJOR_KEYS)\n",
    "ax2.set_xticks(ticks=np.arange(12))\n",
    "ax2.set_xticklabels(MAJOR_KEYS)\n",
    "ax1.set_ylabel(\"Pitch distribution\")\n",
    "plt.legend(frameon=False)\n",
    "plt.tight_layout()\n",
    "plt.show()"
   ]
  },
  {
   "cell_type": "markdown",
   "metadata": {},
   "source": [
    "The key profile matrix is a $24 \\times 12$ matrix that contains the key profiles for each key. The first 12 rows represent the key profiles for major keys and the last 12 rows represent the profiles for minor keys."
   ]
  },
  {
   "cell_type": "code",
   "execution_count": null,
   "metadata": {},
   "outputs": [],
   "source": [
    "key_profile_matrix = build_key_profile_matrix(\"kk\")\n",
    "\n",
    "fig, (ax1, ax2) = plt.subplots(1, 2, figsize=(10, 5))\n",
    "\n",
    "ax1.set_title(\"Major\")\n",
    "ax1.imshow(key_profile_matrix[:12], aspect=\"equal\", cmap=\"BuPu\")\n",
    "ax1.set_xticks(range(12))\n",
    "ax1.set_xticklabels(PITCH_CLASSES)\n",
    "ax1.set_yticks(range(12))\n",
    "ax1.set_yticklabels(MAJOR_KEYS)\n",
    "ax1.set_xlabel(\"Pitch class\")\n",
    "ax1.set_ylabel(\"Key\")\n",
    "\n",
    "ax2.set_title(\"Minor\")\n",
    "ax2.imshow(key_profile_matrix[12:], aspect=\"equal\", cmap=\"BuPu\")\n",
    "ax2.set_xticks(range(12))\n",
    "ax2.set_xticklabels(PITCH_CLASSES)\n",
    "ax2.set_yticks(range(12))\n",
    "ax2.set_yticklabels(MINOR_KEYS)\n",
    "ax2.set_xlabel(\"Pitch class\")\n",
    "\n",
    "plt.show()"
   ]
  },
  {
   "cell_type": "markdown",
   "metadata": {},
   "source": [
    "## Krumhansl-Schmuckler Key Estimation"
   ]
  },
  {
   "cell_type": "code",
   "execution_count": null,
   "metadata": {},
   "outputs": [],
   "source": [
    "from partitura.utils.music import get_time_units_from_note_array\n",
    "\n",
    "key_profile_matrix = build_key_profile_matrix(\"kk\")\n",
    "\n",
    "midi_fn = os.path.join(NOTEBOOK_DIR, \"example_data\", \"01.mid\")\n",
    "perf = pt.load_performance_midi(midi_fn)\n",
    "note_array = perf.note_array()\n",
    "\n",
    "# Modulations!\n",
    "# note_array[\"pitch\"] += 1\n",
    "\n",
    "normalize_distribution = False\n",
    "\n",
    "\n",
    "def corr(x, y):\n",
    "    return np.corrcoef(x, y)[0, 1]\n",
    "\n",
    "\n",
    "similarity_func = corr\n",
    "\n",
    "# Get pitch classes\n",
    "pitch_classes = np.mod(note_array[\"pitch\"], 12)\n",
    "\n",
    "# Compute weighted key distribution\n",
    "pitch_distribution = np.array(\n",
    "    [\n",
    "        note_array[\"onset_sec\"][np.where(pitch_classes == pc)[0]].sum()\n",
    "        for pc in range(12)\n",
    "    ]\n",
    ")\n",
    "\n",
    "if normalize_distribution:\n",
    "    # normalizing is unnecessary for computing the correlation, but might\n",
    "    # be necessary for other similarity metrics\n",
    "    pitch_distribution = pitch_distribution / pitch_distribution.sum()\n",
    "\n",
    "# Compute correlation with key profiles\n",
    "similarity = np.array(\n",
    "    [similarity_func(pitch_distribution, kp) for kp in key_profile_matrix]\n",
    ")\n",
    "\n",
    "fig, ax = plt.subplots(figsize=(10, 7))\n",
    "ax.plot(similarity, c=\"firebrick\")\n",
    "ax.set_xticks(range(24))\n",
    "ax.set_xticklabels(KEYS)\n",
    "ax.set_ylabel(\"Similarity\")\n",
    "key = KEYS[similarity.argmax()]\n",
    "\n",
    "print(f\"The key is {key}\")"
   ]
  },
  {
   "cell_type": "markdown",
   "metadata": {},
   "source": [
    "Partitura includes an implementation of this method!"
   ]
  },
  {
   "cell_type": "code",
   "execution_count": null,
   "metadata": {},
   "outputs": [],
   "source": [
    "from partitura.musicanalysis.key_identification import estimate_key\n",
    "\n",
    "midi_fn = os.path.join(NOTEBOOK_DIR, \"example_data\", \"03.mid\")\n",
    "perf = pt.load_performance_midi(midi_fn)\n",
    "key = estimate_key(note_array, key_profiles=\"krumhansl_kessler\")\n",
    "print(f\"The key is {key}\")"
   ]
  },
  {
   "cell_type": "markdown",
   "metadata": {},
   "source": [
    "## Comparing keys\n",
    "\n",
    "We define a simple tonal distance with relation to the circle of fifths."
   ]
  },
  {
   "cell_type": "code",
   "execution_count": null,
   "metadata": {},
   "outputs": [],
   "source": [
    "from key_estimation_utils import InteractiveCircleOfFifths\n",
    "interactive_cof = InteractiveCircleOfFifths()\n"
   ]
  },
  {
   "cell_type": "code",
   "execution_count": null,
   "metadata": {},
   "outputs": [],
   "source": [
    "from key_estimation_challenge import compare_keys, KEY_COORDINATES\n",
    "\n",
    "print(compare_keys(\"C\", \"Am\"))\n",
    "\n",
    "pairwise_tonal_distance = np.zeros((24, 24))\n",
    "for i, ikey in enumerate(KEYS):\n",
    "    for j, jkey in enumerate(KEYS):\n",
    "        pairwise_tonal_distance[i, j] = compare_keys(ikey, jkey)\n",
    "\n",
    "fig, ax = plt.subplots(figsize=(12, 12))\n",
    "im = ax.matshow(\n",
    "    pairwise_tonal_distance,\n",
    "    aspect=\"equal\",\n",
    "    cmap=\"BuPu\",\n",
    ")\n",
    "ax.set_xticks(range(24))\n",
    "ax.set_xticklabels(KEYS)\n",
    "ax.set_yticks(range(24))\n",
    "ax.set_yticklabels(KEYS)\n",
    "plt.colorbar(im)\n",
    "plt.show()"
   ]
  }
 ],
 "metadata": {
  "kernelspec": {
   "display_name": "miws24",
   "language": "python",
   "name": "python3"
  },
  "language_info": {
   "codemirror_mode": {
    "name": "ipython",
    "version": 3
   },
   "file_extension": ".py",
   "mimetype": "text/x-python",
   "name": "python",
   "nbconvert_exporter": "python",
   "pygments_lexer": "ipython3",
   "version": "3.10.14"
  }
 },
 "nbformat": 4,
 "nbformat_minor": 2
}
